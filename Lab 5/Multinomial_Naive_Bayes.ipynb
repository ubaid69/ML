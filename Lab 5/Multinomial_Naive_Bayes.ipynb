{
  "nbformat": 4,
  "nbformat_minor": 0,
  "metadata": {
    "colab": {
      "name": "Untitled",
      "provenance": []
    },
    "kernelspec": {
      "name": "python3",
      "display_name": "Python 3"
    },
    "language_info": {
      "name": "python"
    }
  },
  "cells": [
    {
      "cell_type": "code",
      "execution_count": 1,
      "metadata": {
        "colab": {
          "base_uri": "https://localhost:8080/"
        },
        "id": "MdUoyJUxevNa",
        "outputId": "7a5a2c4f-b0d6-405a-cf89-2fc7e853591a"
      },
      "outputs": [
        {
          "output_type": "execute_result",
          "data": {
            "text/plain": [
              "['alt.atheism',\n",
              " 'comp.graphics',\n",
              " 'comp.os.ms-windows.misc',\n",
              " 'comp.sys.ibm.pc.hardware',\n",
              " 'comp.sys.mac.hardware',\n",
              " 'comp.windows.x',\n",
              " 'misc.forsale',\n",
              " 'rec.autos',\n",
              " 'rec.motorcycles',\n",
              " 'rec.sport.baseball',\n",
              " 'rec.sport.hockey',\n",
              " 'sci.crypt',\n",
              " 'sci.electronics',\n",
              " 'sci.med',\n",
              " 'sci.space',\n",
              " 'soc.religion.christian',\n",
              " 'talk.politics.guns',\n",
              " 'talk.politics.mideast',\n",
              " 'talk.politics.misc',\n",
              " 'talk.religion.misc']"
            ]
          },
          "metadata": {},
          "execution_count": 1
        }
      ],
      "source": [
        "from sklearn.datasets import fetch_20newsgroups\n",
        "\n",
        "data = fetch_20newsgroups()\n",
        "data.target_names"
      ]
    },
    {
      "cell_type": "code",
      "execution_count": 12,
      "metadata": {
        "collapsed": true,
        "deletable": true,
        "editable": true,
        "id": "Q7vtd_INeaMs"
      },
      "outputs": [],
      "source": [
        "categories = ['talk.religion.misc', 'soc.religion.christian','rec.motorcycles',\n",
        "              'sci.space', 'comp.graphics']\n",
        "train = fetch_20newsgroups(subset='train', categories=categories)\n",
        "test = fetch_20newsgroups(subset='test', categories=categories)"
      ]
    },
    {
      "cell_type": "code",
      "source": [
        "print(train.data[5])"
      ],
      "metadata": {
        "colab": {
          "base_uri": "https://localhost:8080/"
        },
        "id": "fE01zvbwe-Z-",
        "outputId": "b8937cd6-d5fd-405f-97c7-9e17a3e10510"
      },
      "execution_count": 13,
      "outputs": [
        {
          "output_type": "stream",
          "name": "stdout",
          "text": [
            "From: aws@iti.org (Allen W. Sherzer)\n",
            "Subject: Re: Why not give $1 billion to first year-long moon residents?\n",
            "Organization: Evil Geniuses for a Better Tomorrow\n",
            "Lines: 34\n",
            "\n",
            "In article <C5sJDp.F23@zoo.toronto.edu> henry@zoo.toronto.edu (Henry Spencer) writes:\n",
            "\n",
            ">>This prize isn't big enough to warrent developing a SSTO, but it is\n",
            ">>enough to do it if the vehicle exists.\n",
            "\n",
            ">Actually, there are people who will tell you that it *would* be enough\n",
            ">to do SSTO development, if done privately as a cut-rate operation.  Of\n",
            ">course, they may be over-optimistic.\n",
            "\n",
            "In spite of my great respect for the people you speak of, I think their\n",
            "cost estimates are a bit over-optimistic. If nothing else, a working SSTO\n",
            "is at least as complex as a large airliner and has a smaller experience\n",
            "base. It therefore seems that SSTO development should cost at least as\n",
            "much as a typical airliner development. That puts it in the $3G to $5G\n",
            "range.\n",
            "\n",
            ">You can also assume that a working SSTO would have other applications\n",
            ">that would help pay for its development costs.\n",
            "\n",
            "True it and the contest would result in a much larger market. But I\n",
            "don't think it would be enough to attract the investors given the\n",
            "risks involved.\n",
            "\n",
            "If you could gurantee the SSTO costs and gurantee that it captures\n",
            "100% of the available launch market, then I think you could\n",
            "do it.\n",
            "\n",
            "  Allen\n",
            "\n",
            "-- \n",
            "+---------------------------------------------------------------------------+\n",
            "| Lady Astor:   \"Sir, if you were my husband I would poison your coffee!\"   |\n",
            "| W. Churchill: \"Madam, if you were my wife, I would drink it.\"             |\n",
            "+----------------------56 DAYS TO FIRST FLIGHT OF DCX-----------------------+\n",
            "\n"
          ]
        }
      ]
    },
    {
      "cell_type": "code",
      "source": [
        "from sklearn.feature_extraction.text import TfidfVectorizer\n",
        "from sklearn.naive_bayes import MultinomialNB\n",
        "from sklearn.pipeline import make_pipeline\n",
        "\n",
        "model = make_pipeline(TfidfVectorizer(), MultinomialNB())"
      ],
      "metadata": {
        "id": "UPcLidSbfAtG"
      },
      "execution_count": 14,
      "outputs": []
    },
    {
      "cell_type": "code",
      "source": [
        "model.fit(train.data, train.target)\n",
        "labels = model.predict(test.data)"
      ],
      "metadata": {
        "id": "ENNFaXJJfCc2"
      },
      "execution_count": 15,
      "outputs": []
    },
    {
      "cell_type": "code",
      "source": [
        "from sklearn.metrics import confusion_matrix\n",
        "import seaborn as sns\n",
        "import matplotlib.pyplot as plt\n",
        "mat = confusion_matrix(test.target, labels)\n",
        "sns.heatmap(mat.T, square=True, annot=True, fmt='d', cbar=False,\n",
        "            xticklabels=train.target_names, yticklabels=train.target_names)\n",
        "plt.xlabel('true label')\n",
        "plt.ylabel('predicted label');"
      ],
      "metadata": {
        "colab": {
          "base_uri": "https://localhost:8080/",
          "height": 373
        },
        "id": "WzvNOMKzfEZe",
        "outputId": "918fa529-4014-4741-bf39-d3c0072fadbd"
      },
      "execution_count": 16,
      "outputs": [
        {
          "output_type": "display_data",
          "data": {
            "text/plain": [
              "<Figure size 432x288 with 1 Axes>"
            ],
            "image/png": "[encoded data removed]"
          },
          "metadata": {
            "needs_background": "light"
          }
        }
      ]
    },
    {
      "cell_type": "code",
      "source": [
        "def predict_category(s, train=train, model=model):\n",
        "    pred = model.predict([s])\n",
        "    return train.target_names[pred[0]]"
      ],
      "metadata": {
        "id": "UQ52jjlBfWWg"
      },
      "execution_count": 17,
      "outputs": []
    },
    {
      "cell_type": "code",
      "source": [
        "predict_category('determining the screen resolution')"
      ],
      "metadata": {
        "colab": {
          "base_uri": "https://localhost:8080/",
          "height": 35
        },
        "id": "4rrBWfuFfcwX",
        "outputId": "eaa2bd04-a8db-4438-96bb-df8db351d6fb"
      },
      "execution_count": 18,
      "outputs": [
        {
          "output_type": "execute_result",
          "data": {
            "text/plain": [
              "'comp.graphics'"
            ],
            "application/vnd.google.colaboratory.intrinsic+json": {
              "type": "string"
            }
          },
          "metadata": {},
          "execution_count": 18
        }
      ]
    },
    {
      "cell_type": "code",
      "source": [
        "predict_category('what is 650 cc?')"
      ],
      "metadata": {
        "colab": {
          "base_uri": "https://localhost:8080/",
          "height": 35
        },
        "id": "Prta5pEofsCv",
        "outputId": "6783b961-5ee1-40d2-ef20-4aaedc6a7f7e"
      },
      "execution_count": 20,
      "outputs": [
        {
          "output_type": "execute_result",
          "data": {
            "text/plain": [
              "'rec.motorcycles'"
            ],
            "application/vnd.google.colaboratory.intrinsic+json": {
              "type": "string"
            }
          },
          "metadata": {},
          "execution_count": 20
        }
      ]
    },
    {
      "cell_type": "code",
      "source": [
        "predict_category('launching payload')"
      ],
      "metadata": {
        "colab": {
          "base_uri": "https://localhost:8080/",
          "height": 35
        },
        "id": "dAj4WfqXf4xo",
        "outputId": "5670f220-6585-4310-8889-4fc410e5b4ae"
      },
      "execution_count": 21,
      "outputs": [
        {
          "output_type": "execute_result",
          "data": {
            "text/plain": [
              "'sci.space'"
            ],
            "application/vnd.google.colaboratory.intrinsic+json": {
              "type": "string"
            }
          },
          "metadata": {},
          "execution_count": 21
        }
      ]
    }
  ]
}